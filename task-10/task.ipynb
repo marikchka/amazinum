{
 "cells": [
  {
   "cell_type": "code",
   "execution_count": 1,
   "id": "e0c847eb",
   "metadata": {},
   "outputs": [],
   "source": [
    "from sklearn.datasets import load_iris\n",
    "from sklearn.model_selection import train_test_split\n",
    "iris = load_iris()\n",
    "X, y = iris.data, iris.target\n",
    "X_train,X_test, y_train, y_test = train_test_split(X, y, random_state=0 )"
   ]
  },
  {
   "cell_type": "code",
   "execution_count": 2,
   "id": "a42dc9af",
   "metadata": {},
   "outputs": [
    {
     "data": {
      "text/plain": [
       "array([[13,  0,  0],\n",
       "       [ 0, 15,  1],\n",
       "       [ 0,  0,  9]], dtype=int64)"
      ]
     },
     "execution_count": 2,
     "metadata": {},
     "output_type": "execute_result"
    }
   ],
   "source": [
    "from sklearn.linear_model import LogisticRegression\n",
    "from sklearn.tree import DecisionTreeClassifier\n",
    "from sklearn.ensemble import RandomForestClassifier\n",
    "from sklearn.metrics import confusion_matrix\n",
    "log_reg = LogisticRegression(max_iter=200).fit(X_train, y_train)\n",
    "y_pred = log_reg.predict(X_test)\n",
    "confusion_matrix(y_test, y_pred)"
   ]
  },
  {
   "cell_type": "code",
   "execution_count": null,
   "id": "5029a55b",
   "metadata": {},
   "outputs": [
    {
     "name": "stdout",
     "output_type": "stream",
     "text": [
      "train accuracy= 98.214%\n",
      "test accuracy= 97.368%\n",
      "Precision= 96.667%\n",
      "Recall= 97.917%\n",
      "F1 Score= 97.170%\n"
     ]
    }
   ],
   "source": [
    "from sklearn.metrics import ( precision_score, recall_score,f1_score)\n",
    "print(\"train accuracy= {:.3%}\".format(log_reg.score (X_train, y_train)))\n",
    "print(\"test accuracy= {:.3%}\".format(log_reg.score (X_test, y_test)))\n",
    "print(\"precision= {:.3%}\".format( precision_score(y_test, y_pred, average='macro')))\n",
    "print(\"recall= {:.3%}\".format(recall_score(y_test, y_pred, average='macro')))\n",
    "print(\"f1 score= {:.3%}\".format(f1_score(y_test, y_pred, average='macro')))\n"
   ]
  },
  {
   "cell_type": "code",
   "execution_count": 9,
   "id": "a38da898",
   "metadata": {},
   "outputs": [
    {
     "data": {
      "text/plain": [
       "array([[13,  0,  0],\n",
       "       [ 0, 15,  1],\n",
       "       [ 0,  0,  9]], dtype=int64)"
      ]
     },
     "execution_count": 9,
     "metadata": {},
     "output_type": "execute_result"
    }
   ],
   "source": [
    "clf_forest = RandomForestClassifier().fit(X_train, y_train)\n",
    "y_pred_forest = clf_forest.predict(X_test)\n",
    "confusion_matrix(y_test, y_pred_forest)"
   ]
  },
  {
   "cell_type": "code",
   "execution_count": 8,
   "id": "82d8503c",
   "metadata": {},
   "outputs": [
    {
     "name": "stdout",
     "output_type": "stream",
     "text": [
      "train accuracy= 100.000%\n",
      "test accuracy= 97.368%\n",
      "precision= 96.667%\n",
      "recall= 97.917%\n",
      "f1 score= 97.170%\n"
     ]
    }
   ],
   "source": [
    "print(\"train accuracy= {:.3%}\".format(clf_forest.score (X_train, y_train)))\n",
    "print(\"test accuracy= {:.3%}\".format(clf_forest.score (X_test, y_test)))\n",
    "print(\"precision= {:.3%}\".format( precision_score(y_test, y_pred_forest, average='macro')))\n",
    "print(\"recall= {:.3%}\".format(recall_score(y_test, y_pred_forest, average='macro')))\n",
    "print(\"f1 score= {:.3%}\".format(f1_score(y_test, y_pred_forest, average='macro')))"
   ]
  },
  {
   "cell_type": "code",
   "execution_count": 10,
   "id": "a71ee7d9",
   "metadata": {},
   "outputs": [
    {
     "data": {
      "text/plain": [
       "array([[13,  0,  0],\n",
       "       [ 0, 15,  1],\n",
       "       [ 0,  0,  9]], dtype=int64)"
      ]
     },
     "execution_count": 10,
     "metadata": {},
     "output_type": "execute_result"
    }
   ],
   "source": [
    "clf_tree = DecisionTreeClassifier().fit(X_train, y_train)\n",
    "y_pred_tree = clf_tree.predict(X_test)\n",
    "confusion_matrix(y_test, y_pred_tree)"
   ]
  },
  {
   "cell_type": "code",
   "execution_count": 11,
   "id": "74cbb9e5",
   "metadata": {},
   "outputs": [
    {
     "name": "stdout",
     "output_type": "stream",
     "text": [
      "train accuracy= 100.000%\n",
      "test accuracy= 97.368%\n",
      "precision= 96.667%\n",
      "recall= 97.917%\n",
      "f1 score= 97.170%\n"
     ]
    }
   ],
   "source": [
    "print(\"train accuracy= {:.3%}\".format(clf_tree.score (X_train, y_train)))\n",
    "print(\"test accuracy= {:.3%}\".format(clf_tree.score (X_test, y_test)))\n",
    "print(\"precision= {:.3%}\".format( precision_score(y_test, y_pred_tree, average='macro')))\n",
    "print(\"recall= {:.3%}\".format(recall_score(y_test, y_pred_tree, average='macro')))\n",
    "print(\"f1 score= {:.3%}\".format(f1_score(y_test, y_pred_tree, average='macro')))"
   ]
  },
  {
   "cell_type": "code",
   "execution_count": null,
   "id": "540d5858",
   "metadata": {},
   "outputs": [],
   "source": [
    "from sklearn.datasets import load_breast_cancer\n",
    "\n",
    "cancer = load_breast_cancer()\n",
    "X_cancer, y_cancer = cancer.data, cancer.target\n",
    "X_train_c, X_test_c, y_train_c, y_test_c = train_test_split(X_cancer, y_cancer, test_size=0.3, random_state=42)"
   ]
  },
  {
   "cell_type": "code",
   "execution_count": 21,
   "id": "8b7ebfa4",
   "metadata": {},
   "outputs": [
    {
     "name": "stderr",
     "output_type": "stream",
     "text": [
      "C:\\Users\\ssson\\AppData\\Local\\Packages\\PythonSoftwareFoundation.Python.3.12_qbz5n2kfra8p0\\LocalCache\\local-packages\\Python312\\site-packages\\sklearn\\linear_model\\_logistic.py:465: ConvergenceWarning: lbfgs failed to converge (status=1):\n",
      "STOP: TOTAL NO. of ITERATIONS REACHED LIMIT.\n",
      "\n",
      "Increase the number of iterations (max_iter) or scale the data as shown in:\n",
      "    https://scikit-learn.org/stable/modules/preprocessing.html\n",
      "Please also refer to the documentation for alternative solver options:\n",
      "    https://scikit-learn.org/stable/modules/linear_model.html#logistic-regression\n",
      "  n_iter_i = _check_optimize_result(\n"
     ]
    },
    {
     "data": {
      "text/plain": [
       "array([[ 59,   4],\n",
       "       [  2, 106]], dtype=int64)"
      ]
     },
     "execution_count": 21,
     "metadata": {},
     "output_type": "execute_result"
    }
   ],
   "source": [
    "log_reg_c = LogisticRegression(max_iter=200).fit(X_train_c, y_train_c)\n",
    "y_pred_c = log_reg_c.predict(X_test_c)\n",
    "y_prob_c = log_reg_c.predict_proba(X_test_c)[:, 1]\n",
    "confusion_matrix(y_test_c, y_pred_c)"
   ]
  },
  {
   "cell_type": "code",
   "execution_count": 33,
   "id": "6703fd08",
   "metadata": {},
   "outputs": [
    {
     "name": "stdout",
     "output_type": "stream",
     "text": [
      "train accuracy= 95.477%\n",
      "test accuracy= 96.491%\n",
      "precision= 96.364%\n",
      "recall= 98.148%\n",
      "f1 score= 97.248%\n",
      "roc-auc= 99.780%\n"
     ]
    }
   ],
   "source": [
    "from sklearn.metrics import roc_auc_score\n",
    "print(\"train accuracy= {:.3%}\".format(log_reg_c.score (X_train_c, y_train_c)))\n",
    "print(\"test accuracy= {:.3%}\".format(log_reg_c.score (X_test_c, y_test_c)))\n",
    "print(\"precision= {:.3%}\".format( precision_score(y_test_c, y_pred_c)))\n",
    "print(\"recall= {:.3%}\".format(recall_score(y_test_c, y_pred_c)))\n",
    "print(\"f1 score= {:.3%}\".format(f1_score(y_test_c, y_pred_c)))\n",
    "print(\"roc-auc= {:.3%}\".format(roc_auc_score(y_test_c, y_prob_c)))\n"
   ]
  },
  {
   "cell_type": "code",
   "execution_count": 23,
   "id": "94f888d2",
   "metadata": {},
   "outputs": [
    {
     "data": {
      "text/plain": [
       "array([[ 59,   4],\n",
       "       [  1, 107]], dtype=int64)"
      ]
     },
     "execution_count": 23,
     "metadata": {},
     "output_type": "execute_result"
    }
   ],
   "source": [
    "clf_forest_c = RandomForestClassifier().fit(X_train_c, y_train_c)\n",
    "y_pred_forest_c = clf_forest_c.predict(X_test_c)\n",
    "y_prob_forest_c = clf_forest_c.predict_proba(X_test_c)[:, 1]\n",
    "confusion_matrix(y_test_c, y_pred_forest_c)"
   ]
  },
  {
   "cell_type": "code",
   "execution_count": 32,
   "id": "bfdb6bd4",
   "metadata": {},
   "outputs": [
    {
     "name": "stdout",
     "output_type": "stream",
     "text": [
      "train accuracy= 100.000%\n",
      "test accuracy= 97.076%\n",
      "precision= 96.396%\n",
      "recall= 99.074%\n",
      "f1 score= 97.717%\n",
      "roc-auc= 99.647%\n"
     ]
    }
   ],
   "source": [
    "print(\"train accuracy= {:.3%}\".format(clf_forest_c.score (X_train_c, y_train_c)))\n",
    "print(\"test accuracy= {:.3%}\".format(clf_forest_c.score (X_test_c, y_test_c)))\n",
    "print(\"precision= {:.3%}\".format( precision_score(y_test_c, y_pred_forest_c)))\n",
    "print(\"recall= {:.3%}\".format(recall_score(y_test_c, y_pred_forest_c)))\n",
    "print(\"f1 score= {:.3%}\".format(f1_score(y_test_c, y_pred_forest_c)))\n",
    "print(\"roc-auc= {:.3%}\".format(roc_auc_score(y_test_c, y_prob_forest_c)))"
   ]
  },
  {
   "cell_type": "code",
   "execution_count": 28,
   "id": "bc4d1d07",
   "metadata": {},
   "outputs": [
    {
     "data": {
      "text/plain": [
       "array([[ 60,   3],\n",
       "       [  7, 101]], dtype=int64)"
      ]
     },
     "execution_count": 28,
     "metadata": {},
     "output_type": "execute_result"
    }
   ],
   "source": [
    "clf_tree_c = DecisionTreeClassifier().fit(X_train_c, y_train_c)\n",
    "y_pred_tree_c = clf_tree_c.predict(X_test_c)\n",
    "y_prob_tree_c = clf_tree_c.predict_proba(X_test_c)[:,1]\n",
    "confusion_matrix(y_test_c, y_pred_tree_c)"
   ]
  },
  {
   "cell_type": "code",
   "execution_count": 30,
   "id": "8fb9fd3e",
   "metadata": {},
   "outputs": [
    {
     "name": "stdout",
     "output_type": "stream",
     "text": [
      "train accuracy= 100.000%\n",
      "test accuracy= 94.152%\n",
      "precision= 97.115%\n",
      "recall= 93.519%\n",
      "f1 score= 95.283%\n",
      "roc-auc= 94.378%\n"
     ]
    }
   ],
   "source": [
    "print(\"train accuracy= {:.3%}\".format(clf_tree_c.score (X_train_c, y_train_c)))\n",
    "print(\"test accuracy= {:.3%}\".format(clf_tree_c.score (X_test_c, y_test_c)))\n",
    "print(\"precision= {:.3%}\".format( precision_score(y_test_c, y_pred_tree_c)))\n",
    "print(\"recall= {:.3%}\".format(recall_score(y_test_c, y_pred_tree_c)))\n",
    "print(\"f1 score= {:.3%}\".format(f1_score(y_test_c, y_pred_tree_c)))\n",
    "print(\"roc-auc= {:.3%}\".format(roc_auc_score(y_test_c, y_prob_tree_c)))"
   ]
  }
 ],
 "metadata": {
  "kernelspec": {
   "display_name": "Python 3",
   "language": "python",
   "name": "python3"
  },
  "language_info": {
   "codemirror_mode": {
    "name": "ipython",
    "version": 3
   },
   "file_extension": ".py",
   "mimetype": "text/x-python",
   "name": "python",
   "nbconvert_exporter": "python",
   "pygments_lexer": "ipython3",
   "version": "3.12.10"
  }
 },
 "nbformat": 4,
 "nbformat_minor": 5
}
