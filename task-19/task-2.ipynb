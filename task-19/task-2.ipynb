{
 "cells": [
  {
   "cell_type": "code",
   "execution_count": null,
   "id": "37a6434b",
   "metadata": {},
   "outputs": [],
   "source": [
    "import pandas as pd"
   ]
  },
  {
   "cell_type": "code",
   "execution_count": 3,
   "id": "0cb645af",
   "metadata": {},
   "outputs": [
    {
     "name": "stdout",
     "output_type": "stream",
     "text": [
      "   age     sex     bmi  children smoker     region      charges\n",
      "0   19  female  27.900         0    yes  southwest  16884.92400\n",
      "1   18    male  33.770         1     no  southeast   1725.55230\n",
      "2   28    male  33.000         3     no  southeast   4449.46200\n",
      "3   33    male  22.705         0     no  northwest  21984.47061\n",
      "4   32    male  28.880         0     no  northwest   3866.85520\n",
      "               age          bmi     children       charges\n",
      "count  1338.000000  1338.000000  1338.000000   1338.000000\n",
      "mean     39.207025    30.663397     1.094918  13270.422265\n",
      "std      14.049960     6.098187     1.205493  12110.011237\n",
      "min      18.000000    15.960000     0.000000   1121.873900\n",
      "25%      27.000000    26.296250     0.000000   4740.287150\n",
      "50%      39.000000    30.400000     1.000000   9382.033000\n",
      "75%      51.000000    34.693750     2.000000  16639.912515\n",
      "max      64.000000    53.130000     5.000000  63770.428010\n"
     ]
    }
   ],
   "source": [
    "df = pd.read_csv('data/insurance.csv')\n",
    "print(df.head())\n",
    "print(df.describe())"
   ]
  },
  {
   "cell_type": "code",
   "execution_count": 6,
   "id": "4aa86f27",
   "metadata": {},
   "outputs": [
    {
     "name": "stdout",
     "output_type": "stream",
     "text": [
      "Outliers in 'charges': 139\n",
      "     age     sex     bmi  children smoker     region      charges\n",
      "14    27    male  42.130         0    yes  southeast  39611.75770\n",
      "19    30    male  35.300         0    yes  southwest  36837.46700\n",
      "23    34  female  31.920         1    yes  northeast  37701.87680\n",
      "29    31    male  36.300         2    yes  southwest  38711.00000\n",
      "30    22    male  35.600         0    yes  southwest  35585.57600\n",
      "34    28    male  36.400         1    yes  southwest  51194.55914\n",
      "38    35    male  36.670         1    yes  northeast  39774.27630\n",
      "39    60    male  39.900         0    yes  southwest  48173.36100\n",
      "49    36    male  35.200         1    yes  southeast  38709.17600\n",
      "53    36    male  34.430         0    yes  southeast  37742.57570\n",
      "55    58    male  36.955         2    yes  northwest  47496.49445\n",
      "82    22    male  37.620         1    yes  southeast  37165.16380\n",
      "84    37  female  34.800         2    yes  southwest  39836.51900\n",
      "86    57  female  31.160         0    yes  northwest  43578.93940\n",
      "94    64  female  31.300         2    yes  southwest  47291.05500\n",
      "109   63    male  35.090         0    yes  southeast  47055.53210\n",
      "123   44    male  31.350         1    yes  northeast  39556.49450\n",
      "146   46    male  30.495         3    yes  northwest  40720.55105\n",
      "158   30    male  35.530         0    yes  southeast  36950.25670\n",
      "161   18  female  36.850         0    yes  southeast  36149.48350\n"
     ]
    }
   ],
   "source": [
    "def detect_outliers_iqr(df, column):\n",
    "    Q1 = df[column].quantile(0.25)\n",
    "    Q3 = df[column].quantile(0.75)\n",
    "    IQR = Q3 - Q1\n",
    "    lower_bound = Q1 - 1.5 * IQR\n",
    "    upper_bound = Q3 + 1.5 * IQR\n",
    "    outliers = df[(df[column] < lower_bound) | (df[column] > upper_bound)]\n",
    "    return outliers\n",
    "\n",
    "outliers_charges = detect_outliers_iqr(df, 'charges')\n",
    "print(f\"Outliers in 'charges': {len(outliers_charges)}\")\n",
    "\n",
    "print(outliers_charges.head(20))\n"
   ]
  },
  {
   "cell_type": "markdown",
   "id": "40af2222",
   "metadata": {},
   "source": [
    "All of them are smokers, mostly male and have high bmi, this increase risk of chronic illnesses.\n",
    "\n",
    "Outliers can inflate the mean, leading to misleading averages and trends.\n",
    "\n",
    "We can cap outliers because we just want to investigate dataset in general, not especially how smoking affects cost."
   ]
  },
  {
   "cell_type": "code",
   "execution_count": 8,
   "id": "c3ce06b8",
   "metadata": {},
   "outputs": [
    {
     "data": {
      "text/plain": [
       "age         0\n",
       "sex         0\n",
       "bmi         0\n",
       "children    0\n",
       "smoker      0\n",
       "region      0\n",
       "charges     0\n",
       "dtype: int64"
      ]
     },
     "execution_count": 8,
     "metadata": {},
     "output_type": "execute_result"
    }
   ],
   "source": [
    "missing_counts = df.isnull().sum()\n",
    "missing_counts"
   ]
  },
  {
   "cell_type": "code",
   "execution_count": 9,
   "id": "978ca642",
   "metadata": {},
   "outputs": [],
   "source": [
    "def cap_outliers(df, column):\n",
    "    Q1 = df[column].quantile(0.25)\n",
    "    Q3 = df[column].quantile(0.75)\n",
    "    IQR = Q3 - Q1\n",
    "    lower_bound = Q1 - 1.5 * IQR\n",
    "    upper_bound = Q3 + 1.5 * IQR\n",
    "    df[column] = df[column].clip(lower_bound, upper_bound)\n",
    "    return df\n",
    "\n",
    "df_capped = cap_outliers(df.copy(), 'charges')\n"
   ]
  }
 ],
 "metadata": {
  "kernelspec": {
   "display_name": "Python 3",
   "language": "python",
   "name": "python3"
  },
  "language_info": {
   "codemirror_mode": {
    "name": "ipython",
    "version": 3
   },
   "file_extension": ".py",
   "mimetype": "text/x-python",
   "name": "python",
   "nbconvert_exporter": "python",
   "pygments_lexer": "ipython3",
   "version": "3.12.10"
  }
 },
 "nbformat": 4,
 "nbformat_minor": 5
}
